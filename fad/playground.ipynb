{
 "cells": [
  {
   "cell_type": "code",
   "id": "initial_id",
   "metadata": {
    "collapsed": true,
    "ExecuteTime": {
     "end_time": "2024-09-14T16:36:15.974399Z",
     "start_time": "2024-09-14T16:36:15.965319Z"
    }
   },
   "source": [
    "import os\n",
    "\n",
    "from dotenv import load_dotenv\n",
    "load_dotenv()"
   ],
   "outputs": [
    {
     "data": {
      "text/plain": [
       "True"
      ]
     },
     "execution_count": 1,
     "metadata": {},
     "output_type": "execute_result"
    }
   ],
   "execution_count": 1
  },
  {
   "metadata": {},
   "cell_type": "markdown",
   "source": "",
   "id": "53669046cbe170c4"
  },
  {
   "metadata": {
    "ExecuteTime": {
     "end_time": "2024-09-14T16:36:17.945285Z",
     "start_time": "2024-09-14T16:36:15.975721Z"
    }
   },
   "cell_type": "code",
   "source": [
    "from fad.generators.generate_agent import choose_agent\n",
    "agent = choose_agent(\"What is multi-agent system?\")\n",
    "agent\n"
   ],
   "id": "3bdd278bf6f4ebcb",
   "outputs": [
    {
     "name": "stderr",
     "output_type": "stream",
     "text": [
      "/var/folders/lb/gr9j170d18dc0vjc64b6nkc40000gp/T/ipykernel_76423/2570771579.py:1: LangChainDeprecationWarning: As of langchain-core 0.3.0, LangChain uses pydantic v2 internally. The langchain_core.pydantic_v1 module was a compatibility shim for pydantic v1, and should no longer be used. Please update the code to import from Pydantic directly.\n",
      "\n",
      "For example, replace imports like: `from langchain_core.pydantic_v1 import BaseModel`\n",
      "with: `from pydantic import BaseModel`\n",
      "or the v1 compatibility namespace if you are working in a code base that has not been fully upgraded to pydantic 2 yet. \tfrom pydantic.v1 import BaseModel\n",
      "\n",
      "  from core.agents.generate_agent import choose_agent\n"
     ]
    },
    {
     "data": {
      "text/plain": [
       "GeneratedAgent(server='🤖 AI Research Agent', agent_role_prompt='You are a knowledgeable AI research assistant specializing in artificial intelligence and multi-agent systems. Your primary goal is to provide detailed, insightful, and well-structured explanations and analyses of complex AI concepts, including their applications, benefits, and challenges.')"
      ]
     },
     "execution_count": 2,
     "metadata": {},
     "output_type": "execute_result"
    }
   ],
   "execution_count": 2
  },
  {
   "metadata": {
    "ExecuteTime": {
     "end_time": "2024-09-14T16:36:17.950280Z",
     "start_time": "2024-09-14T16:36:17.946662Z"
    }
   },
   "cell_type": "code",
   "source": "type(agent)",
   "id": "4b0af4d2b71354b6",
   "outputs": [
    {
     "data": {
      "text/plain": [
       "core.agents.generate_agent.GeneratedAgent"
      ]
     },
     "execution_count": 3,
     "metadata": {},
     "output_type": "execute_result"
    }
   ],
   "execution_count": 3
  },
  {
   "metadata": {
    "ExecuteTime": {
     "end_time": "2024-09-14T16:36:18.622591Z",
     "start_time": "2024-09-14T16:36:17.951368Z"
    }
   },
   "cell_type": "code",
   "source": [
    "from fad.generators.retrieval_grader import retrieval_grader\n",
    "\n",
    "grade  = retrieval_grader.invoke({\n",
    "    \"document\": \"Nothing\",\n",
    "    \"question\": \"What is multi-agent system?\"\n",
    "})"
   ],
   "id": "e4c7cc41111287e1",
   "outputs": [],
   "execution_count": 4
  },
  {
   "metadata": {
    "ExecuteTime": {
     "end_time": "2024-09-14T16:36:18.628266Z",
     "start_time": "2024-09-14T16:36:18.624839Z"
    }
   },
   "cell_type": "code",
   "source": "grade",
   "id": "d54534f755db38a1",
   "outputs": [
    {
     "data": {
      "text/plain": [
       "GradeDocuments(binary_score='no')"
      ]
     },
     "execution_count": 5,
     "metadata": {},
     "output_type": "execute_result"
    }
   ],
   "execution_count": 5
  },
  {
   "metadata": {
    "ExecuteTime": {
     "end_time": "2024-09-14T16:36:18.632120Z",
     "start_time": "2024-09-14T16:36:18.629264Z"
    }
   },
   "cell_type": "code",
   "source": "type(grade)",
   "id": "2651d899027aceb5",
   "outputs": [
    {
     "data": {
      "text/plain": [
       "core.agents.retrieval_grader.GradeDocuments"
      ]
     },
     "execution_count": 6,
     "metadata": {},
     "output_type": "execute_result"
    }
   ],
   "execution_count": 6
  },
  {
   "metadata": {
    "ExecuteTime": {
     "end_time": "2024-09-16T03:30:21.444513Z",
     "start_time": "2024-09-16T03:30:20.904110Z"
    }
   },
   "cell_type": "code",
   "source": [
    "from langchain_openai import OpenAIEmbeddings\n",
    "from langchain_chroma import Chroma\n",
    "import os\n",
    "from dotenv import load_dotenv\n",
    "load_dotenv()\n",
    "OPENAI_EMBEDDING_MODEL = os.environ.get(\"OPENAI_EMBEDDING_MODEL\", \"text-embedding-3-small\")\n",
    "\n",
    "retriever = Chroma(\n",
    "    collection_name=\"rag-chroma\",\n",
    "    persist_directory=\"./.chroma\",\n",
    "    embedding_function=OpenAIEmbeddings(model=OPENAI_EMBEDDING_MODEL)\n",
    "    \n",
    ").as_retriever()\n",
    "docs = retriever.invoke(\"VNG EPS\")\n",
    "docs"
   ],
   "id": "db3bb92da6eed75",
   "outputs": [
    {
     "data": {
      "text/plain": [
       "[Document(metadata={'source': 'https://eulerpool.com/en/stock/VNG-Stock-VN000000VNZ0/Revenue', 'title': ''}, page_content=\"amounting to 0 VND are expected. This corresponds to a dividend yield of 0 %.In which sector is VNG located?VNG is assigned to the '-' sector.Wann musste ich die Aktien von VNG kaufen, um die vorherige Dividende zu erhalten?To receive the latest dividend of VNG from 9/15/2024 amounting to 0 VND, you needed to have the stock in your portfolio before the ex-date on 9/15/2024.When did VNG pay the last dividend?The last dividend was paid out on 9/15/2024.What was the dividend of VNG in the year 2023?In the year 2023, VNG distributed 0 VND as dividends.In which currency does VNG pay out the dividend?The dividends of VNG are distributed in VND.Stock savings plans offer an attractive way for investors to build wealth over the long term. One of the main advantages is the so-called cost-average effect: by regularly investing a fixed amount in stocks or stock funds, you automatically buy more shares when prices are low, and fewer when they are high. This can lead to a more favorable average\"),\n",
       " Document(metadata={'source': 'https://www.vietnam.vn/en/co-phieu-vnz-cua-cong-ty-cp-vng-giam-manh-lien-tiep-ba-phien/', 'title': ''}, page_content=\"On the contrary, they bought a lot at VHM (+72,8 billion VND), VNM (+67,9 billion VND), CTG (+50,2 billion VND)... \\nAccording to VCBS Securities Company, the market weakened due to lack of demand momentum and cautious investor sentiment, causing the market to continue to fluctuate in today's session.\\nVCBS recommends that investors stay calm, do not rush to sell and closely monitor market developments, patiently wait for a recovery to have a trading strategy to ensure profits. With the current developments, 1.250 points will be a reliable support zone of the market and there is a high probability that there will soon be a recovery at this point.\\nAccording to Dragon Capital Securities Corporation (VDSC), VN-Index is expected to regain its upward momentum in the near future, thereby opening up opportunities to reach the target of around 1.280 points once again.\"),\n",
       " Document(metadata={'source': 'https://stockanalysis.com/stocks/vng/', 'title': ''}, page_content=\"was 7.52 trillion, an increase of 2.00% compared to the previous year's 7.37 trillion. Losses were -1,496.61 billion, 516.8% more than in 2021.  Financial numbers in VND Financial Statements  News All Videos PressPress Releases     VNG IPO Registration Document (F-1) VNG has filed to go public with an IPO on the NASDAQ. 1 year ago - SEC   Sections Stocks IPOs ETFs Blog Services Stock Analysis Pro Free Newsletter Get Support Website Login FAQ Changelog Sitemap Advertise Company About Contact Us Terms of Use Privacy Policy Data Disclaimer Market Newsletter Daily market news in bullet point format.  Subscribe   © 2024 Stock Analysis. All rights reserved.\"),\n",
       " Document(metadata={'source': 'https://www.viettonkinconsulting.com/global-business/vngs-rise-to-prominence-a-game-changing-story/', 'title': ''}, page_content='Looking ahead, VNG is strategically poised to continue shaping the tech industry in Vietnam and beyond. Its trajectory is characterized by ceaseless growth, relentless innovation, and substantial contributions to the development of the tech ecosystem within its home country. As VNG embarks on its next chapter, the tech world watches with eager anticipation, ready to witness the unfolding of the next remarkable chapter in this extraordinary success story.\\nFinal Thoughts\\nVNG‘s Initial Public Offering (IPO) marks a watershed moment in Vietnam’s tech industry. With a rich history and a diverse portfolio of online games, communications, fintech, and digital business ventures, VNG has solidified its position as a tech giant in Vietnam. The IPO signifies not only a significant financial milestone but also a testament to VNG‘s pivotal role in shaping the tech landscape of the nation.')]"
      ]
     },
     "execution_count": 16,
     "metadata": {},
     "output_type": "execute_result"
    }
   ],
   "execution_count": 16
  },
  {
   "metadata": {
    "ExecuteTime": {
     "end_time": "2024-09-16T03:30:22.784745Z",
     "start_time": "2024-09-16T03:30:22.780327Z"
    }
   },
   "cell_type": "code",
   "source": "len(docs)",
   "id": "b5c3743c524b0c48",
   "outputs": [
    {
     "data": {
      "text/plain": [
       "4"
      ]
     },
     "execution_count": 17,
     "metadata": {},
     "output_type": "execute_result"
    }
   ],
   "execution_count": 17
  },
  {
   "metadata": {},
   "cell_type": "code",
   "outputs": [],
   "execution_count": null,
   "source": "",
   "id": "740a7c91813751da"
  }
 ],
 "metadata": {
  "kernelspec": {
   "display_name": "Python 3",
   "language": "python",
   "name": "python3"
  },
  "language_info": {
   "codemirror_mode": {
    "name": "ipython",
    "version": 2
   },
   "file_extension": ".py",
   "mimetype": "text/x-python",
   "name": "python",
   "nbconvert_exporter": "python",
   "pygments_lexer": "ipython2",
   "version": "2.7.6"
  }
 },
 "nbformat": 4,
 "nbformat_minor": 5
}
