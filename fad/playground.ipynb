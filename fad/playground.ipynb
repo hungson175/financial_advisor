{
 "cells": [
  {
   "cell_type": "code",
   "id": "initial_id",
   "metadata": {
    "collapsed": true,
    "ExecuteTime": {
     "end_time": "2024-09-16T16:35:27.100733Z",
     "start_time": "2024-09-16T16:35:27.091714Z"
    }
   },
   "source": [
    "import os\n",
    "\n",
    "from dotenv import load_dotenv\n",
    "load_dotenv()"
   ],
   "outputs": [
    {
     "data": {
      "text/plain": [
       "True"
      ]
     },
     "execution_count": 1,
     "metadata": {},
     "output_type": "execute_result"
    }
   ],
   "execution_count": 1
  },
  {
   "metadata": {},
   "cell_type": "markdown",
   "source": "",
   "id": "53669046cbe170c4"
  },
  {
   "metadata": {
    "ExecuteTime": {
     "end_time": "2024-09-16T16:35:29.060756Z",
     "start_time": "2024-09-16T16:35:27.101881Z"
    }
   },
   "cell_type": "code",
   "source": [
    "from fad.generators.generate_agent import choose_agent\n",
    "agent = choose_agent(\"What is multi-agent system?\")\n",
    "agent\n"
   ],
   "id": "3bdd278bf6f4ebcb",
   "outputs": [
    {
     "name": "stderr",
     "output_type": "stream",
     "text": [
      "/var/folders/lb/gr9j170d18dc0vjc64b6nkc40000gp/T/ipykernel_9918/1942514583.py:1: LangChainDeprecationWarning: As of langchain-core 0.3.0, LangChain uses pydantic v2 internally. The langchain_core.pydantic_v1 module was a compatibility shim for pydantic v1, and should no longer be used. Please update the code to import from Pydantic directly.\n",
      "\n",
      "For example, replace imports like: `from langchain_core.pydantic_v1 import BaseModel`\n",
      "with: `from pydantic import BaseModel`\n",
      "or the v1 compatibility namespace if you are working in a code base that has not been fully upgraded to pydantic 2 yet. \tfrom pydantic.v1 import BaseModel\n",
      "\n",
      "  from fad.generators.generate_agent import choose_agent\n"
     ]
    },
    {
     "data": {
      "text/plain": [
       "GeneratedAgent(server='🤖 AI Research Agent', agent_role_prompt='You are a knowledgeable AI research assistant specializing in artificial intelligence and multi-agent systems. Your primary goal is to provide detailed, insightful, and well-structured explanations and analyses of complex AI concepts, including their applications, benefits, and challenges.')"
      ]
     },
     "execution_count": 2,
     "metadata": {},
     "output_type": "execute_result"
    }
   ],
   "execution_count": 2
  },
  {
   "metadata": {
    "ExecuteTime": {
     "end_time": "2024-09-16T16:35:29.065038Z",
     "start_time": "2024-09-16T16:35:29.061767Z"
    }
   },
   "cell_type": "code",
   "source": "type(agent)",
   "id": "4b0af4d2b71354b6",
   "outputs": [
    {
     "data": {
      "text/plain": [
       "fad.generators.generate_agent.GeneratedAgent"
      ]
     },
     "execution_count": 3,
     "metadata": {},
     "output_type": "execute_result"
    }
   ],
   "execution_count": 3
  },
  {
   "metadata": {
    "ExecuteTime": {
     "end_time": "2024-09-16T16:35:47.096042Z",
     "start_time": "2024-09-16T16:35:47.094442Z"
    }
   },
   "cell_type": "code",
   "source": "",
   "id": "e4c7cc41111287e1",
   "outputs": [],
   "execution_count": 4
  },
  {
   "metadata": {},
   "cell_type": "code",
   "source": "",
   "id": "d54534f755db38a1",
   "outputs": [],
   "execution_count": null
  },
  {
   "metadata": {
    "ExecuteTime": {
     "end_time": "2024-09-16T16:35:54.111432Z",
     "start_time": "2024-09-16T16:35:54.109456Z"
    }
   },
   "cell_type": "code",
   "source": "",
   "id": "2651d899027aceb5",
   "outputs": [],
   "execution_count": 4
  },
  {
   "metadata": {
    "ExecuteTime": {
     "end_time": "2024-09-16T16:35:55.936524Z",
     "start_time": "2024-09-16T16:35:54.937273Z"
    }
   },
   "cell_type": "code",
   "source": [
    "from langchain_openai import OpenAIEmbeddings\n",
    "from langchain_chroma import Chroma\n",
    "import os\n",
    "from dotenv import load_dotenv\n",
    "load_dotenv()\n",
    "OPENAI_EMBEDDING_MODEL = os.environ.get(\"OPENAI_EMBEDDING_MODEL\", \"text-embedding-3-small\")\n",
    "\n",
    "retriever = Chroma(\n",
    "    collection_name=\"rag-chroma\",\n",
    "    persist_directory=\"./.chroma\",\n",
    "    embedding_function=OpenAIEmbeddings(model=OPENAI_EMBEDDING_MODEL)\n",
    "    \n",
    ").as_retriever()\n",
    "docs = retriever.invoke(\"EPS\")\n",
    "docs"
   ],
   "id": "db3bb92da6eed75",
   "outputs": [
    {
     "data": {
      "text/plain": [
       "[Document(metadata={'source': 'https://www.alphaspread.com/security/set/vng/analyst-estimates', 'title': ''}, page_content=\"Relative Valuation\\n\\t\\t\\t\\t\\t\\t\\t\\t\\t\\t\\t\\n\\t\\t\\t\\t\\t\\t\\t\\t\\t\\t\\t\\tVNG stock valuation using valuation multiples.\\n\\t\\t\\t\\t\\t\\t\\t\\t\\t\\t\\t\\n\\t\\t\\t\\t\\t\\t\\t\\t\\t\\t\\tWall Street Estimates\\n\\t\\t\\t\\t\\t\\t\\t\\t\\t\\t\\t\\n\\t\\t\\t\\t\\t\\t\\t\\t\\t\\t\\t\\tVNG price targets and financial estimates made by Wall st analysts.\\n\\t\\t\\t\\t\\t\\t\\t\\t\\t\\t\\t\\n\\t\\t\\t\\t\\t\\t\\t\\t\\t\\t\\tProfitability Analysis\\n\\t\\t\\t\\t\\t\\t\\t\\t\\t\\t\\t\\n\\t\\t\\t\\t\\t\\t\\t\\t\\t\\t\\t\\tDetailed analysis of the company's profitability.\\n\\t\\t\\t\\t\\t\\t\\t\\t\\t\\t\\t\\n\\t\\t\\t\\t\\t\\t\\t\\t\\t\\t\\tSolvency Analysis\\n\\t\\t\\t\\t\\t\\t\\t\\t\\t\\t\\t\\n\\t\\t\\t\\t\\t\\t\\t\\t\\t\\t\\t\\tAnalysis of the financial position and solvency of the company.\\n\\t\\t\\t\\t\\t\\t\\t\\t\\t\\t\\t\\n\\t\\t\\t\\t\\t\\t\\t\\t\\t\\t\\tFinancials\\n\\t\\t\\t\\t\\t\\t\\t\\t\\t\\t\\t\\n\\t\\t\\t\\t\\t\\t\\t\\t\\t\\t\\t\\tIncome Statement, Balance Sheet, Cash Flow Statement.\\n\\t\\t\\t\\t\\t\\t\\t\\t\\t\\t\\t\\n\\t\\t\\t\\t\\t\\t\\t\\t\\t\\t\\tDiscount Rate\\n\\t\\t\\t\\t\\t\\t\\t\\t\\t\\t\\t\\n\\t\\t\\t\\t\\t\\t\\t\\t\\t\\t\\t\\tVNG stock discount rate: cost of equity and WACC.\\n\\t\\t\\t\\t\\t\\t\\t\\t\\t\\t\\t\\n\\t\\t\\t\\t\\t\\t\\t\\tSummary\\n\\t\\t\\t\\t\\t\\t\\t\\n\\t\\t\\t\\t\\t\\t\\t\\tDCF Valuation\\n\\t\\t\\t\\t\\t\\t\\t\\n\\t\\t\\t\\t\\t\\t\\t\\tRelative Valuation\\n\\t\\t\\t\\t\\t\\t\\t\\n\\t\\t\\t\\t\\t\\t\\t\\tWall Street Estimates\\n\\t\\t\\t\\t\\t\\t\\t\\n\\t\\t\\t\\t\\t\\t\\t\\tProfitability Analysis\\n\\t\\t\\t\\t\\t\\t\\t\\n\\t\\t\\t\\t\\t\\t\\t\\tSolvency Analysis\\n\\t\\t\\t\\t\\t\\t\\t\\n\\t\\t\\t\\t\\t\\t\\t\\tFinancials\\n\\t\\t\\t\\t\\t\\t\\t\\n\\t\\t\\t\\t\\t\\t\\t\\tDiscount Rate\"),\n",
       " Document(metadata={'source': 'https://simplywall.st/stocks/vn/software/hose-fpt/fpt-shares/future', 'ticker': 'FPT', 'title': ''}, page_content='FPT (HOSE:FPT) Stock Forecast & Analyst Predictions - Simply Wall St'),\n",
       " Document(metadata={'source': 'https://simplywall.st/stocks/vn/software/hose-fpt/fpt-shares/future', 'ticker': 'FPT', 'title': ''}, page_content='FPT (HOSE:FPT) Stock Forecast & Analyst Predictions - Simply Wall St'),\n",
       " Document(metadata={'source': 'https://simplywall.st/stocks/vn/software/hose-fpt/fpt-shares/future', 'ticker': 'FPT', 'title': ''}, page_content='FPT (HOSE:FPT) Stock Forecast & Analyst Predictions - Simply Wall St')]"
      ]
     },
     "execution_count": 5,
     "metadata": {},
     "output_type": "execute_result"
    }
   ],
   "execution_count": 5
  },
  {
   "metadata": {},
   "cell_type": "code",
   "source": "len(docs)",
   "id": "b5c3743c524b0c48",
   "outputs": [],
   "execution_count": null
  },
  {
   "metadata": {
    "ExecuteTime": {
     "end_time": "2024-09-16T16:46:59.149420Z",
     "start_time": "2024-09-16T16:46:59.145946Z"
    }
   },
   "cell_type": "code",
   "source": [
    "tagged_docs = []\n",
    "for doc in docs:\n",
    "    tdoc = doc\n",
    "    tdoc.metadata[\"tag\"] = \"FPT\"\n",
    "    tagged_docs.append(tdoc)\n",
    "\n",
    "tagged_docs\n",
    "\n",
    "    "
   ],
   "id": "740a7c91813751da",
   "outputs": [
    {
     "data": {
      "text/plain": [
       "[Document(metadata={'source': 'https://www.alphaspread.com/security/set/vng/analyst-estimates', 'title': '', 'tag': 'FPT'}, page_content=\"Relative Valuation\\n\\t\\t\\t\\t\\t\\t\\t\\t\\t\\t\\t\\n\\t\\t\\t\\t\\t\\t\\t\\t\\t\\t\\t\\tVNG stock valuation using valuation multiples.\\n\\t\\t\\t\\t\\t\\t\\t\\t\\t\\t\\t\\n\\t\\t\\t\\t\\t\\t\\t\\t\\t\\t\\tWall Street Estimates\\n\\t\\t\\t\\t\\t\\t\\t\\t\\t\\t\\t\\n\\t\\t\\t\\t\\t\\t\\t\\t\\t\\t\\t\\tVNG price targets and financial estimates made by Wall st analysts.\\n\\t\\t\\t\\t\\t\\t\\t\\t\\t\\t\\t\\n\\t\\t\\t\\t\\t\\t\\t\\t\\t\\t\\tProfitability Analysis\\n\\t\\t\\t\\t\\t\\t\\t\\t\\t\\t\\t\\n\\t\\t\\t\\t\\t\\t\\t\\t\\t\\t\\t\\tDetailed analysis of the company's profitability.\\n\\t\\t\\t\\t\\t\\t\\t\\t\\t\\t\\t\\n\\t\\t\\t\\t\\t\\t\\t\\t\\t\\t\\tSolvency Analysis\\n\\t\\t\\t\\t\\t\\t\\t\\t\\t\\t\\t\\n\\t\\t\\t\\t\\t\\t\\t\\t\\t\\t\\t\\tAnalysis of the financial position and solvency of the company.\\n\\t\\t\\t\\t\\t\\t\\t\\t\\t\\t\\t\\n\\t\\t\\t\\t\\t\\t\\t\\t\\t\\t\\tFinancials\\n\\t\\t\\t\\t\\t\\t\\t\\t\\t\\t\\t\\n\\t\\t\\t\\t\\t\\t\\t\\t\\t\\t\\t\\tIncome Statement, Balance Sheet, Cash Flow Statement.\\n\\t\\t\\t\\t\\t\\t\\t\\t\\t\\t\\t\\n\\t\\t\\t\\t\\t\\t\\t\\t\\t\\t\\tDiscount Rate\\n\\t\\t\\t\\t\\t\\t\\t\\t\\t\\t\\t\\n\\t\\t\\t\\t\\t\\t\\t\\t\\t\\t\\t\\tVNG stock discount rate: cost of equity and WACC.\\n\\t\\t\\t\\t\\t\\t\\t\\t\\t\\t\\t\\n\\t\\t\\t\\t\\t\\t\\t\\tSummary\\n\\t\\t\\t\\t\\t\\t\\t\\n\\t\\t\\t\\t\\t\\t\\t\\tDCF Valuation\\n\\t\\t\\t\\t\\t\\t\\t\\n\\t\\t\\t\\t\\t\\t\\t\\tRelative Valuation\\n\\t\\t\\t\\t\\t\\t\\t\\n\\t\\t\\t\\t\\t\\t\\t\\tWall Street Estimates\\n\\t\\t\\t\\t\\t\\t\\t\\n\\t\\t\\t\\t\\t\\t\\t\\tProfitability Analysis\\n\\t\\t\\t\\t\\t\\t\\t\\n\\t\\t\\t\\t\\t\\t\\t\\tSolvency Analysis\\n\\t\\t\\t\\t\\t\\t\\t\\n\\t\\t\\t\\t\\t\\t\\t\\tFinancials\\n\\t\\t\\t\\t\\t\\t\\t\\n\\t\\t\\t\\t\\t\\t\\t\\tDiscount Rate\"),\n",
       " Document(metadata={'source': 'https://simplywall.st/stocks/vn/software/hose-fpt/fpt-shares/future', 'ticker': 'FPT', 'title': '', 'tag': 'FPT'}, page_content='FPT (HOSE:FPT) Stock Forecast & Analyst Predictions - Simply Wall St'),\n",
       " Document(metadata={'source': 'https://simplywall.st/stocks/vn/software/hose-fpt/fpt-shares/future', 'ticker': 'FPT', 'title': '', 'tag': 'FPT'}, page_content='FPT (HOSE:FPT) Stock Forecast & Analyst Predictions - Simply Wall St'),\n",
       " Document(metadata={'source': 'https://simplywall.st/stocks/vn/software/hose-fpt/fpt-shares/future', 'ticker': 'FPT', 'title': '', 'tag': 'FPT'}, page_content='FPT (HOSE:FPT) Stock Forecast & Analyst Predictions - Simply Wall St')]"
      ]
     },
     "execution_count": 9,
     "metadata": {},
     "output_type": "execute_result"
    }
   ],
   "execution_count": 9
  },
  {
   "metadata": {},
   "cell_type": "code",
   "outputs": [],
   "execution_count": null,
   "source": "",
   "id": "517542afbde67505"
  },
  {
   "metadata": {},
   "cell_type": "code",
   "outputs": [],
   "execution_count": null,
   "source": "",
   "id": "9d6835693ed35a39"
  },
  {
   "metadata": {
    "ExecuteTime": {
     "end_time": "2024-09-16T17:16:43.001206Z",
     "start_time": "2024-09-16T17:16:42.572865Z"
    }
   },
   "cell_type": "code",
   "source": [
    "fpt_retriever = retriever = Chroma(\n",
    "    collection_name=\"rag-chroma\",\n",
    "    persist_directory=\"./.chroma\",\n",
    "    embedding_function=OpenAIEmbeddings(model=OPENAI_EMBEDDING_MODEL)\n",
    "    \n",
    ").as_retriever(search_kwargs={\n",
    "    \"filter\": {\"ticker\": \"FPT\"}\n",
    "})\n",
    "\n",
    "fdocs = fpt_retriever.invoke(\"Is FPT doing well ?\")\n",
    "fdocs"
   ],
   "id": "f6c379e4605199ed",
   "outputs": [
    {
     "data": {
      "text/plain": [
       "[Document(metadata={'source': 'https://www.investing.com/equities/fpt-corp', 'ticker': 'FPT', 'title': ''}, page_content=\"SentimentBuyPrice Target135,161.7Upside+2.7%Members' SentimentsBearishBullishProTipsTips that distill complex financial data into concise, actionable investment insights.Unlock All 13Has raised its dividend for 4 consecutive yearsUnlock InvestingPro FPT Corp News & AnalysisVietnam's FPT to invest $200 million in AI factory using Nvidia chips HANOI (Reuters) - Vietnam's top tech firm FPT plans to build a $200 million artificial intelligence (AI) factory using Nvidia (NASDAQ:NVDA)'s graphics chips and software, the two...ReutersApr 23, 20241Analysis: Fear on the wild frontier as riskier stock markets left trailing By Tom Arnold LONDON (Reuters) - Frontier stocks have trailed bigger emerging markets in recovering from the coronavirus-induced crash as liquidity has dried up and investors beat...ReutersNov 11, 2020FPT Software hits $1 billion in global IT service revenueHANOI - FPT Corporation, a leading global technology firm based in Vietnam, has announced a significant milestone,\"),\n",
       " Document(metadata={'source': 'https://theinvestmentbrief.substack.com/p/stock-analysis-fpt-software-vietnam', 'ticker': 'FPT', 'title': ''}, page_content='Stock Analysis: FPT Software (Vietnam)'),\n",
       " Document(metadata={'source': 'https://theinvestmentbrief.substack.com/p/stock-analysis-fpt-software-vietnam', 'ticker': 'FPT', 'title': ''}, page_content='Corporation is a leading player in the Vietnamese and international tech scene, with strong growth prospects driven by digital transformation and emerging technologies. For investors looking to tap into Vietnam’s growing digital economy, FPT offers a solid balance of growth potential and stability.Disclosure:The views expressed in this blog are for informational purposes only and should not be considered financial advice. I may hold positions in the stocks mentioned. Please do your own research or consult a financial advisor before making any investment decisions.Share this postStock Analysis: FPT Software (Vietnam)theinvestmentbrief.substack.comCopy linkFacebookEmailNoteOtherShareDiscussion about this postCommentsRestacksTopLatestNo postsReady for more?Subscribe© 2024 The Investment BriefPrivacy ∙ Terms ∙ Collection notice Start WritingGet the appSubstack is the home for great cultureShareCopy linkFacebookEmailNoteOther'),\n",
       " Document(metadata={'source': 'https://www.investing.com/equities/fpt-corp', 'ticker': 'FPT', 'title': ''}, page_content=\"Picked by AI  Undervalued Stocks United States  📈 Fed's first cut since 2020: Time to buy the dip? See Tech-focused stock picksUnlock AI Picks FPT Corp (FPT)Ho Chi MinhCurrency in  VNDDisclaimerAdd to Watchlist131,620.0-1,900.0(-1.43%)Closed03:48:15Fair ValueAn estimate of a stock's true price based on valuation of 49 models like discounted cash flow, peer valuation multiples, and dividend discount models.Unlock ValueDay's Range131,100.0133,000.052 wk Range82,600.0146,500.0FPT ScorecardFull AnalysisHas a perfect Piotroski Score of 9GeneralOverviewProfileHistorical DataHistorical SplitsIndex ComponentChartStreaming ChartInteractive ChartNews & AnalysisNewsFinancialsFinancial SummaryIncome StatementBalance SheetCash FlowRatiosDividendsEarningsTechnicalTechnical AnalysisCandlestick PatternsAnalyst Price TargetForumDiscussionsRecent SentimentsUser RankingsOverviewProfileHistorical DataHistorical SplitsIndex ComponentFPT Corp stock price live, this page displays HM FPT stock exchange data.\")]"
      ]
     },
     "execution_count": 39,
     "metadata": {},
     "output_type": "execute_result"
    }
   ],
   "execution_count": 39
  },
  {
   "metadata": {
    "ExecuteTime": {
     "end_time": "2024-09-17T00:57:18.787638Z",
     "start_time": "2024-09-17T00:57:18.785019Z"
    }
   },
   "cell_type": "code",
   "source": [
    "from datetime import datetime\n",
    "\n",
    "date_time = datetime.now()\n",
    "date_time_formatted = date_time.strftime(\"%Y-%m-%d_%H-%M-%S\")\n"
   ],
   "id": "42a7585ceeebc69d",
   "outputs": [],
   "execution_count": 5
  },
  {
   "metadata": {
    "ExecuteTime": {
     "end_time": "2024-09-17T00:57:18.946771Z",
     "start_time": "2024-09-17T00:57:18.944326Z"
    }
   },
   "cell_type": "code",
   "source": "date_time_formatted",
   "id": "a9c150a506ed30b6",
   "outputs": [
    {
     "data": {
      "text/plain": [
       "'2024-09-17_07-57-18'"
      ]
     },
     "execution_count": 6,
     "metadata": {},
     "output_type": "execute_result"
    }
   ],
   "execution_count": 6
  },
  {
   "metadata": {},
   "cell_type": "code",
   "outputs": [],
   "execution_count": null,
   "source": "",
   "id": "7bb904b1d9f8f445"
  }
 ],
 "metadata": {
  "kernelspec": {
   "display_name": "Python 3",
   "language": "python",
   "name": "python3"
  },
  "language_info": {
   "codemirror_mode": {
    "name": "ipython",
    "version": 2
   },
   "file_extension": ".py",
   "mimetype": "text/x-python",
   "name": "python",
   "nbconvert_exporter": "python",
   "pygments_lexer": "ipython2",
   "version": "2.7.6"
  }
 },
 "nbformat": 4,
 "nbformat_minor": 5
}
